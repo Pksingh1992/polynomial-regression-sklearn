{
  "nbformat": 4,
  "nbformat_minor": 0,
  "metadata": {
    "colab": {
      "provenance": []
    },
    "kernelspec": {
      "name": "python3",
      "display_name": "Python 3"
    },
    "language_info": {
      "name": "python"
    }
  },
  "cells": [
    {
      "cell_type": "code",
      "execution_count": 24,
      "metadata": {
        "id": "Qvk6EEZXCHas"
      },
      "outputs": [],
      "source": [
        "import numpy as np\n",
        "import matplotlib.pyplot as plt\n",
        "from sklearn.linear_model import LinearRegression\n",
        "from sklearn.preprocessing import PolynomialFeatures\n",
        "from sklearn.metrics import mean_squared_error, r2_score\n",
        "from sklearn.model_selection import train_test_split\n",
        "from sklearn.datasets import load_diabetes\n",
        "from sklearn.linear_model import Ridge, Lasso"
      ]
    },
    {
      "cell_type": "code",
      "source": [
        "diabetes = load_diabetes()\n",
        "X=diabetes.data\n",
        "feature_names = diabetes.feature_names\n",
        "y=diabetes.target\n",
        "print(\"Feature shape\", X.shape)\n",
        "print(\"Target shape\", y.shape)"
      ],
      "metadata": {
        "colab": {
          "base_uri": "https://localhost:8080/"
        },
        "id": "Qq_lF7KRDCwn",
        "outputId": "263c0d1f-4fcc-41ce-9947-486b1caab64b"
      },
      "execution_count": 18,
      "outputs": [
        {
          "output_type": "stream",
          "name": "stdout",
          "text": [
            "Feature shape (442, 10)\n",
            "Target shape (442,)\n"
          ]
        }
      ]
    },
    {
      "cell_type": "code",
      "source": [
        "X_train, X_test, y_train, y_test=train_test_split(X, y, test_size=0.2, random_state=42)"
      ],
      "metadata": {
        "id": "K4ZN7L0REgSo"
      },
      "execution_count": 14,
      "outputs": []
    },
    {
      "cell_type": "code",
      "source": [
        "degree=2\n",
        "poly=PolynomialFeatures(degree=degree, include_bias=False)\n",
        "X_train_poly=poly.fit_transform(X_train)\n",
        "X_test_poly=poly.transform(X_test)\n",
        "print(\"Original features: \", X_train.shape[1])\n",
        "print(\"Transformed Features: \", X_train_poly.shape[1])"
      ],
      "metadata": {
        "colab": {
          "base_uri": "https://localhost:8080/"
        },
        "id": "EgBaTBSpHCwa",
        "outputId": "35e10e1b-aaf2-4771-d5c5-68b8650736b9"
      },
      "execution_count": 19,
      "outputs": [
        {
          "output_type": "stream",
          "name": "stdout",
          "text": [
            "Original features:  10\n",
            "Transformed Features:  65\n"
          ]
        }
      ]
    },
    {
      "cell_type": "code",
      "source": [
        "model=LinearRegression().fit(X_train_poly, y_train)\n",
        "\n",
        "#Prediction\n",
        "y_pred_train=model.predict(X_train_poly)\n",
        "y_pred_test=model.predict(X_test_poly)\n"
      ],
      "metadata": {
        "id": "vXaqWNQgIMqt"
      },
      "execution_count": 26,
      "outputs": []
    },
    {
      "cell_type": "code",
      "source": [
        "print(\"Train MSE\", mean_squared_error(y_train, y_pred_train))\n",
        "print(\"Test MSE\", mean_squared_error(y_test, y_pred_test))\n",
        "print(\"Train R2\", r2_score(y_train, y_pred_train))\n",
        "print(\"Test R2\", r2_score(y_test, y_pred_test))"
      ],
      "metadata": {
        "colab": {
          "base_uri": "https://localhost:8080/"
        },
        "id": "NqyEjsXdLE7h",
        "outputId": "2c476cf4-3243-47b5-9251-fef422ccf1c7"
      },
      "execution_count": 27,
      "outputs": [
        {
          "output_type": "stream",
          "name": "stdout",
          "text": [
            "Train MSE 2393.138618059786\n",
            "Test MSE 3096.0283073442843\n",
            "Train R2 0.6061583502354678\n",
            "Test R2 0.41563993364079777\n"
          ]
        }
      ]
    },
    {
      "cell_type": "code",
      "source": [
        "for d in [1, 2, 3]:\n",
        "    poly = PolynomialFeatures(degree=d, include_bias=False)\n",
        "    X_train_poly = poly.fit_transform(X_train)\n",
        "    X_test_poly = poly.transform(X_test)\n",
        "\n",
        "    model = LinearRegression().fit(X_train_poly, y_train)\n",
        "    r2 = r2_score(y_test, model.predict(X_test_poly))\n",
        "    print(f\"Degree {d} | Test R2 Score: {r2:.3f}\") #d=3 has worst R2 score"
      ],
      "metadata": {
        "colab": {
          "base_uri": "https://localhost:8080/"
        },
        "id": "hPXA4bNoMF2b",
        "outputId": "e8253cbe-3ca6-411f-aaf1-120383c038dd"
      },
      "execution_count": 36,
      "outputs": [
        {
          "output_type": "stream",
          "name": "stdout",
          "text": [
            "Degree 1 | Test R2 Score: 0.453\n",
            "Degree 2 | Test R2 Score: 0.416\n",
            "Degree 3 | Test R2 Score: -14.561\n"
          ]
        }
      ]
    },
    {
      "cell_type": "code",
      "source": [
        "degree = 2\n",
        "poly = PolynomialFeatures(degree=degree, include_bias=False)\n",
        "X_train_poly = poly.fit_transform(X_train)\n",
        "X_test_poly = poly.transform(X_test)\n",
        "\n",
        "# Train three models\n",
        "lin_model = LinearRegression().fit(X_train_poly, y_train)\n",
        "ridge_model = Ridge(alpha=1.0).fit(X_train_poly, y_train)\n",
        "lasso_model = Lasso(alpha=0.01, max_iter=10000).fit(X_train_poly, y_train)"
      ],
      "metadata": {
        "id": "DwTjK9JNMR_W"
      },
      "execution_count": 37,
      "outputs": []
    },
    {
      "cell_type": "code",
      "source": [
        "def evaluate_model(name, model, X_train_poly, y_train, X_test_poly, y_test, degree):\n",
        "    y_pred_train = model.predict(X_train_poly)\n",
        "    y_pred_test = model.predict(X_test_poly)\n",
        "\n",
        "    print(f\"\\n{name} Regression (degree={degree})\")\n",
        "    print(\"-\" * 40)\n",
        "    print(\"Train MSE:\", mean_squared_error(y_train, y_pred_train))\n",
        "    print(\"Test MSE:\", mean_squared_error(y_test, y_pred_test))\n",
        "    print(\"Train R2:\", r2_score(y_train, y_pred_train))\n",
        "    print(\"Test R2:\", r2_score(y_test, y_pred_test))"
      ],
      "metadata": {
        "id": "bf_-efiVOXQ8"
      },
      "execution_count": 40,
      "outputs": []
    },
    {
      "cell_type": "code",
      "source": [
        "# Degree = 2 example\n",
        "degree = 2\n",
        "poly = PolynomialFeatures(degree=degree, include_bias=False)\n",
        "X_train_poly = poly.fit_transform(X_train)\n",
        "X_test_poly = poly.transform(X_test)\n",
        "\n",
        "lin_model = LinearRegression().fit(X_train_poly, y_train)\n",
        "ridge_model = Ridge(alpha=1.0).fit(X_train_poly, y_train)\n",
        "lasso_model = Lasso(alpha=0.01, max_iter=10000).fit(X_train_poly, y_train)\n",
        "\n",
        "# Evaluate all three models (with matching data)\n",
        "evaluate_model(\"Linear\", lin_model, X_train_poly, y_train, X_test_poly, y_test, degree)\n",
        "evaluate_model(\"Ridge\", ridge_model, X_train_poly, y_train, X_test_poly, y_test, degree)\n",
        "evaluate_model(\"Lasso\", lasso_model, X_train_poly, y_train, X_test_poly, y_test, degree)\n"
      ],
      "metadata": {
        "colab": {
          "base_uri": "https://localhost:8080/"
        },
        "id": "7nreeeuFOnFl",
        "outputId": "e3d22508-e608-44ae-c8b8-47d1a74c6010"
      },
      "execution_count": 41,
      "outputs": [
        {
          "output_type": "stream",
          "name": "stdout",
          "text": [
            "\n",
            "Linear Regression (degree=2)\n",
            "----------------------------------------\n",
            "Train MSE: 2393.138618059786\n",
            "Test MSE: 3096.0283073442843\n",
            "Train R2: 0.6061583502354678\n",
            "Test R2: 0.41563993364079777\n",
            "\n",
            "Ridge Regression (degree=2)\n",
            "----------------------------------------\n",
            "Train MSE: 3384.7281675307836\n",
            "Test MSE: 3075.1322263562033\n",
            "Train R2: 0.4429712865585862\n",
            "Test R2: 0.41958396582030866\n",
            "\n",
            "Lasso Regression (degree=2)\n",
            "----------------------------------------\n",
            "Train MSE: 2783.525427182105\n",
            "Test MSE: 2698.0266419350723\n",
            "Train R2: 0.5419119318329695\n",
            "Test R2: 0.49076078413751045\n"
          ]
        }
      ]
    },
    {
      "cell_type": "code",
      "source": [],
      "metadata": {
        "id": "z2BS5HuXRL0O"
      },
      "execution_count": null,
      "outputs": []
    }
  ]
}